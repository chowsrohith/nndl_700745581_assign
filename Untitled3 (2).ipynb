{
 "cells": [
  {
   "cell_type": "code",
   "execution_count": 1,
   "id": "3cd9d200-f2a6-4801-89e3-b4ac59edc224",
   "metadata": {},
   "outputs": [
    {
     "name": "stdout",
     "output_type": "stream",
     "text": [
      "Total number of employees: 4\n",
      "Average salary: 76250.0\n"
     ]
    }
   ],
   "source": [
    "class Employee:\n",
    "    num_employees = 0\n",
    "\n",
    "    def __init__(self, name, family, salary, department):\n",
    "        self.name = name\n",
    "        self.family = family\n",
    "        self.salary = salary\n",
    "        self.department = department\n",
    "        Employee.num_employees += 1\n",
    "\n",
    "    @staticmethod\n",
    "    def average_salary(employees):\n",
    "        total_salary = sum(emp.salary for emp in employees)\n",
    "        return total_salary / len(employees)\n",
    "\n",
    "class FulltimeEmployee(Employee):\n",
    "    def __init__(self, name, family, salary, department, experience):\n",
    "        super().__init__(name, family, salary, department)\n",
    "        self.experience = experience\n",
    "\n",
    "employee1 = Employee(\"John Doe\", \"Family A\", 60000, \"HR\")\n",
    "employee2 = Employee(\"Jane Smith\", \"Family B\", 75000, \"Finance\")\n",
    "\n",
    "fulltime_employee1 = FulltimeEmployee(\"Alice Johnson\", \"Family C\", 80000, \"IT\", 3)\n",
    "fulltime_employee2 = FulltimeEmployee(\"Bob Williams\", \"Family D\", 90000, \"Engineering\", 5)\n",
    "\n",
    "employees = [employee1, employee2, fulltime_employee1, fulltime_employee2]\n",
    "avg_salary = Employee.average_salary(employees)\n",
    "\n",
    "print(\"Total number of employees:\", Employee.num_employees)\n",
    "print(\"Average salary:\", avg_salary)"
   ]
  },
  {
   "cell_type": "code",
   "execution_count": 2,
   "id": "5d7d68dc-ec7e-4fd0-aa39-bd0d16b0edc9",
   "metadata": {},
   "outputs": [
    {
     "name": "stdout",
     "output_type": "stream",
     "text": [
      "Original array:\n",
      "[14.8976455   8.27053963 17.10055019 12.60464225  1.80044954 15.24158816\n",
      " 11.30681836  6.4018464  11.46915759 19.87641251 12.53708438  4.53439523\n",
      " 15.09878172  1.4679337   9.950486    6.53189827 15.02445923  1.41939281\n",
      " 19.44419027 18.97394831]\n",
      "\n",
      "Reshaped array:\n",
      "[[14.8976455   8.27053963  0.         12.60464225  1.80044954]\n",
      " [15.24158816 11.30681836  6.4018464  11.46915759  0.        ]\n",
      " [12.53708438  4.53439523  0.          1.4679337   9.950486  ]\n",
      " [ 6.53189827 15.02445923  1.41939281  0.         18.97394831]]\n"
     ]
    }
   ],
   "source": [
    "import numpy as np\n",
    "random_vector = np.random.uniform(1, 20, size=20)\n",
    "print(\"Original array:\")\n",
    "print(random_vector)\n",
    "\n",
    "reshaped_array = random_vector.reshape(4, 5)\n",
    "\n",
    "max_indices = np.argmax(reshaped_array, axis=1)\n",
    "\n",
    "reshaped_array[np.arange(4), max_indices] = 0\n",
    "\n",
    "print(\"\\nReshaped array:\")\n",
    "print(reshaped_array)"
   ]
  },
  {
   "cell_type": "code",
   "execution_count": null,
   "id": "be54e631-18ca-41ab-ae1b-36fc2ed3c218",
   "metadata": {},
   "outputs": [],
   "source": []
  }
 ],
 "metadata": {
  "kernelspec": {
   "display_name": "Python 3 (ipykernel)",
   "language": "python",
   "name": "python3"
  },
  "language_info": {
   "codemirror_mode": {
    "name": "ipython",
    "version": 3
   },
   "file_extension": ".py",
   "mimetype": "text/x-python",
   "name": "python",
   "nbconvert_exporter": "python",
   "pygments_lexer": "ipython3",
   "version": "3.12.1"
  }
 },
 "nbformat": 4,
 "nbformat_minor": 5
}
